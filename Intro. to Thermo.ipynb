{
 "cells": [
  {
   "cell_type": "code",
   "execution_count": 1,
   "id": "d1143fb3",
   "metadata": {},
   "outputs": [
    {
     "data": {
      "text/html": [
       "<style type=\"text/css\">\n",
       "\n",
       " @font-face {\n",
       "  font-family: timesbd;\n",
       "  src: url(timesbd.ttf);\n",
       "}\n",
       "\n",
       ".title{\n",
       "direction: ltr;\n",
       "font-size:100px;\n",
       "padding-left: 10px;\n",
       "line-height:10px;\n",
       "font-family:basim-marah;\n",
       "}\n",
       "\n",
       "div.text_cell pre.CodeMirror-line {\n",
       "direction:ltr;\n",
       "font-size:20px;\n",
       "color:Blue;\n",
       "line-height:40px;\n",
       "padding-right: 1cm;\n",
       "padding-left: 0cm;\n",
       "text-align:justify;\n",
       "font-family:amiri-quran;\n",
       "}\n",
       ".rendered_html {\n",
       "direction:ltr;\n",
       "font-size:20px;\n",
       "line-height:40px;\n",
       "padding-right: 1cm;\n",
       "padding-left: 0cm;\n",
       "text-align:justify;\n",
       "font-family:amiri-quran;\n",
       "}\n",
       "\n",
       ".rendered_html p {\n",
       "direction:ltr;\n",
       "font-size:20px;\n",
       "line-height:40px;\n",
       "padding-right: 1cm;\n",
       "padding-left: 1cm;\n",
       "text-align:justify;\n",
       "font-family:amiri-quran;\n",
       "}\n",
       "\n",
       ".rendered_html h1{\n",
       "direction: ltr;\n",
       "font-size:200%;\n",
       "text-align:center;\n",
       "padding-left: 55px;\n",
       "font-family:timesbd;\n",
       "}\n",
       "\n",
       ".rendered_html h2{\n",
       "direction: ltr;\n",
       "font-size:171%;\n",
       "padding-left: 55px;\n",
       "line-height:10px;\n",
       "font-family:Arslan;\n",
       "}\n",
       "\n",
       ".rendered_html h3{\n",
       "direction: ltr;\n",
       "font-size:141%;\n",
       "padding-left: 55px;\n",
       "line-height:10px;\n",
       "font-family:Arslan;\n",
       "}\n",
       "\n",
       ".rendered_html ul {\n",
       "    list-style-type: none;\n",
       "}\n",
       "\n",
       ".rendered_html ul li:before {\n",
       "  content: '-';\n",
       "  position: absolute;\n",
       "  margin-left: -10px;\n",
       "}\n",
       "\n",
       ".English{\n",
       "direction:ltr;\n",
       "font-size:20px;\n",
       "line-height:40px;\n",
       "padding-right: 1cm;\n",
       "padding-left: 0cm;\n",
       "text-align:justify;\n",
       "font-family:amiri-quran;\n",
       "}\n",
       "\n",
       ".horizontal{\n",
       "height:2px;\n",
       "border:none;\n",
       "color:#333;\n",
       "background-color:#333;\n",
       "width:75%;\n",
       "}\n",
       ".jupyter-widgets{\n",
       "    font-size:20px;\n",
       "    direction:ltr;\n",
       "    margin-left:10px;\n",
       "    font-family:amiri-quran;\n",
       "        \n",
       "}\n",
       ".widget-radio-box input{\n",
       "    float:left;\n",
       "    direction:ltr;\n",
       "    margin: 0 calc( var(--jp-widgets-input-padding) * 2 ) 0 10px;\n",
       "    text-align:left;\n",
       "    height: 30px;\n",
       "}\n",
       ".widget-radio{\n",
       "    flex-direction: column;\n",
       "    width:unset;\n",
       "    \n",
       "}\n",
       ".widget-label{  \n",
       "    font-family:amiri-quran;\n",
       "    font-size:18px;\n",
       "    height: 40px;\n",
       "}\n",
       "\n",
       ".widget-radio-box label {\n",
       "    font-size:18px;\n",
       "    height: 30px;\n",
       "}\n",
       "\n",
       ".true-grade{\n",
       "    color:green;\n",
       "}\n",
       ".false-grade{\n",
       "    color:red;\n",
       "}\n",
       "label:lang(en){\n",
       "    direction:ltr;\n",
       "    text-align:left;\n",
       "}\n",
       ".s{\n",
       "    line-height:unset;\n",
       "    height:unset;\n",
       "}\n",
       ".CodeMirror-wrap {\n",
       "    font-size:16px;\n",
       "}\n",
       "\n",
       ".basic_table{\n",
       "    font-size:20px;\n",
       "    color:\"green\";\n",
       "}\n",
       "ol {\n",
       "    margin-left:10px;\n",
       "}\n",
       "\n",
       ".grid-container {\n",
       "  display: grid;\n",
       "  grid-template-columns: 50% 50%;\n",
       "  gap: 2px;\n",
       "  padding: 2px;\n",
       "}\n",
       "\n",
       ".grid-container > div {\n",
       "  text-align: center;\n",
       "  padding: 20px 0;\n",
       "  font-size: 20px;\n",
       "}\n",
       "</style>"
      ],
      "text/plain": [
       "<IPython.core.display.HTML object>"
      ]
     },
     "execution_count": 1,
     "metadata": {},
     "output_type": "execute_result"
    }
   ],
   "source": [
    "import style\n",
    "style._set_css_style(\"custom.css\")"
   ]
  },
  {
   "cell_type": "markdown",
   "id": "7176b576",
   "metadata": {},
   "source": [
    "### What is thermo?"
   ]
  },
  {
   "cell_type": "markdown",
   "id": "7d2e49fd",
   "metadata": {},
   "source": [
    "Thermo is open-source software for engineers, scientists, technicians and anyone trying to understand the universe in more detail. It facilitates the retrieval of constants of chemicals, the calculation of temperature and pressure dependent chemical properties (both thermodynamic and transport), and the calculation of the same for chemical mixtures (including phase equilibria) using various models.\n"
   ]
  },
  {
   "cell_type": "markdown",
   "id": "959494d9",
   "metadata": {},
   "source": [
    "Author:https://github.com/CalebBell"
   ]
  },
  {
   "cell_type": "markdown",
   "id": "a7b919ec",
   "metadata": {},
   "source": [
    "The primary objectives of this chapter are the utilization of the \"therom\" package to extract physical properties associated with both pure chemical compounds and compound mixtures. These properties will be employed for calculations relevant to chemical engineering students, specifically in equipment design."
   ]
  },
  {
   "cell_type": "markdown",
   "id": "a17dc98c",
   "metadata": {},
   "source": [
    "### Thermo Installation"
   ]
  },
  {
   "cell_type": "markdown",
   "id": "6fe41604",
   "metadata": {},
   "source": [
    "Thermo can be installed by:"
   ]
  },
  {
   "cell_type": "code",
   "execution_count": null,
   "id": "2076c828",
   "metadata": {},
   "outputs": [],
   "source": [
    "!pip install thermo"
   ]
  },
  {
   "cell_type": "markdown",
   "id": "47099d71",
   "metadata": {},
   "source": [
    "### Import thermo"
   ]
  },
  {
   "cell_type": "markdown",
   "id": "c2749e73",
   "metadata": {},
   "source": [
    "Initially, the importation of the Chemical class is imperative to access and analyze properties associated with pure compounds."
   ]
  },
  {
   "cell_type": "code",
   "execution_count": 2,
   "id": "835d3221",
   "metadata": {},
   "outputs": [],
   "source": [
    "from thermo.chemical import Chemical as chem"
   ]
  },
  {
   "cell_type": "markdown",
   "id": "33b7ea55",
   "metadata": {},
   "source": [
    "Creating a chemical object involves identifying the appropriate chemical by name through a database, The library is designed around base SI units only for development convenience. "
   ]
  },
  {
   "cell_type": "code",
   "execution_count": 4,
   "id": "8bf00885",
   "metadata": {},
   "outputs": [],
   "source": [
    "MEOH = chem(\"methanol\")"
   ]
  },
  {
   "cell_type": "markdown",
   "id": "75351295",
   "metadata": {},
   "source": [
    "The chemical formula of the compound can be discerned as depicted below."
   ]
  },
  {
   "cell_type": "code",
   "execution_count": 100,
   "id": "c3638264",
   "metadata": {},
   "outputs": [
    {
     "data": {
      "text/plain": [
       "'CH4O'"
      ]
     },
     "execution_count": 100,
     "metadata": {},
     "output_type": "execute_result"
    }
   ],
   "source": [
    "MEOH.formula"
   ]
  },
  {
   "cell_type": "markdown",
   "id": "bcf5ca31",
   "metadata": {},
   "source": [
    "Common name"
   ]
  },
  {
   "cell_type": "code",
   "execution_count": 101,
   "id": "70f5ec58",
   "metadata": {},
   "outputs": [
    {
     "data": {
      "text/plain": [
       "'methanol'"
      ]
     },
     "execution_count": 101,
     "metadata": {},
     "output_type": "execute_result"
    }
   ],
   "source": [
    "MEOH.name"
   ]
  },
  {
   "cell_type": "markdown",
   "id": "fffa9460",
   "metadata": {},
   "source": [
    "IUPAC Name"
   ]
  },
  {
   "cell_type": "code",
   "execution_count": 102,
   "id": "202fd116",
   "metadata": {},
   "outputs": [
    {
     "data": {
      "text/plain": [
       "'methanol'"
      ]
     },
     "execution_count": 102,
     "metadata": {},
     "output_type": "execute_result"
    }
   ],
   "source": [
    "MEOH.IUPAC_name"
   ]
  },
  {
   "cell_type": "markdown",
   "id": "36de12bc",
   "metadata": {},
   "source": [
    "Moleculer Weight"
   ]
  },
  {
   "cell_type": "code",
   "execution_count": 103,
   "id": "5ae89d9b",
   "metadata": {},
   "outputs": [
    {
     "data": {
      "text/plain": [
       "32.04186"
      ]
     },
     "execution_count": 103,
     "metadata": {},
     "output_type": "execute_result"
    }
   ],
   "source": [
    "MEOH.MW"
   ]
  },
  {
   "cell_type": "markdown",
   "id": "740ee9af",
   "metadata": {},
   "source": [
    "All chemical properties default to 298.15 K and 101325 Pa upon creation, unless explicitly specified."
   ]
  },
  {
   "cell_type": "code",
   "execution_count": 104,
   "id": "a32f53ad",
   "metadata": {},
   "outputs": [
    {
     "data": {
      "text/plain": [
       "(298.15, 101325)"
      ]
     },
     "execution_count": 104,
     "metadata": {},
     "output_type": "execute_result"
    }
   ],
   "source": [
    "MEOH.T,MEOH.P"
   ]
  },
  {
   "cell_type": "markdown",
   "id": "0956e8a3",
   "metadata": {},
   "source": [
    "Boiling Point"
   ]
  },
  {
   "cell_type": "code",
   "execution_count": 106,
   "id": "80d9e330",
   "metadata": {},
   "outputs": [
    {
     "data": {
      "text/plain": [
       "337.632383296"
      ]
     },
     "execution_count": 106,
     "metadata": {},
     "output_type": "execute_result"
    }
   ],
   "source": [
    "MEOH.Tb"
   ]
  },
  {
   "cell_type": "markdown",
   "id": "bf0707cb",
   "metadata": {},
   "source": [
    "Density"
   ]
  },
  {
   "cell_type": "code",
   "execution_count": 15,
   "id": "6ef56786",
   "metadata": {},
   "outputs": [
    {
     "data": {
      "text/plain": [
       "786.3437328393527"
      ]
     },
     "execution_count": 15,
     "metadata": {},
     "output_type": "execute_result"
    }
   ],
   "source": [
    "MEOH.rho"
   ]
  },
  {
   "cell_type": "markdown",
   "id": "b3a67654",
   "metadata": {},
   "source": [
    "Heat Capasity"
   ]
  },
  {
   "cell_type": "code",
   "execution_count": 16,
   "id": "f65603e1",
   "metadata": {},
   "outputs": [
    {
     "data": {
      "text/plain": [
       "2534.5585837100352"
      ]
     },
     "execution_count": 16,
     "metadata": {},
     "output_type": "execute_result"
    }
   ],
   "source": [
    "MEOH.Cp"
   ]
  },
  {
   "cell_type": "markdown",
   "id": "536051c6",
   "metadata": {},
   "source": [
    "Vapor Pressure"
   ]
  },
  {
   "cell_type": "code",
   "execution_count": 105,
   "id": "477b176d",
   "metadata": {},
   "outputs": [
    {
     "data": {
      "text/plain": [
       "16981.49712384057"
      ]
     },
     "execution_count": 105,
     "metadata": {},
     "output_type": "execute_result"
    }
   ],
   "source": [
    "MEOH.VaporPressure(298.15)"
   ]
  },
  {
   "cell_type": "markdown",
   "id": "73337f92",
   "metadata": {},
   "source": [
    "Phase "
   ]
  },
  {
   "cell_type": "code",
   "execution_count": 23,
   "id": "dc877611",
   "metadata": {},
   "outputs": [
    {
     "data": {
      "text/plain": [
       "'l'"
      ]
     },
     "execution_count": 23,
     "metadata": {},
     "output_type": "execute_result"
    }
   ],
   "source": [
    "MEOH.phase"
   ]
  },
  {
   "cell_type": "markdown",
   "id": "df894307",
   "metadata": {},
   "source": [
    "To see all properties from the Chemical class, type the variable name of the compound followed by a dot, then press the 'tab' key."
   ]
  },
  {
   "cell_type": "code",
   "execution_count": null,
   "id": "7431fc0d",
   "metadata": {},
   "outputs": [],
   "source": [
    "MEOH. # tap"
   ]
  },
  {
   "cell_type": "markdown",
   "id": "6232b267",
   "metadata": {},
   "source": [
    "To obtain a description of any property, select the property and type a question mark."
   ]
  },
  {
   "cell_type": "code",
   "execution_count": 5,
   "id": "05d91771",
   "metadata": {},
   "outputs": [],
   "source": [
    "MEOH.Hvap?"
   ]
  },
  {
   "cell_type": "markdown",
   "id": "99d32776",
   "metadata": {},
   "source": [
    "Adjusting the reference temperature and pressure directly affects the correction of physical properties."
   ]
  },
  {
   "cell_type": "code",
   "execution_count": 28,
   "id": "f3a63d1b",
   "metadata": {},
   "outputs": [],
   "source": [
    "MEOH = chem(\"methanol\",T=350,P=1e05)"
   ]
  },
  {
   "cell_type": "code",
   "execution_count": 29,
   "id": "6ee55f9c",
   "metadata": {},
   "outputs": [
    {
     "data": {
      "text/plain": [
       "(1487.285643007321, 1.1010714177569492, 'g')"
      ]
     },
     "execution_count": 29,
     "metadata": {},
     "output_type": "execute_result"
    }
   ],
   "source": [
    "MEOH.Cp,MEOH.rho,MEOH.phase"
   ]
  },
  {
   "cell_type": "code",
   "execution_count": 31,
   "id": "111797a1",
   "metadata": {},
   "outputs": [],
   "source": [
    "MEOH = chem(\"methanol\",T=350,P=10e05)"
   ]
  },
  {
   "cell_type": "code",
   "execution_count": 32,
   "id": "6dddc8bf",
   "metadata": {},
   "outputs": [
    {
     "data": {
      "text/plain": [
       "(2936.223917346582, 736.1869358880626, 'l')"
      ]
     },
     "execution_count": 32,
     "metadata": {},
     "output_type": "execute_result"
    }
   ],
   "source": [
    "MEOH.Cp,MEOH.rho,MEOH.phase"
   ]
  },
  {
   "cell_type": "markdown",
   "id": "8e53c11f",
   "metadata": {},
   "source": [
    "Alternative methods exist for creating a chemical object, either through the chemical formula or by providing the CAS number."
   ]
  },
  {
   "cell_type": "code",
   "execution_count": 108,
   "id": "a014ffdf",
   "metadata": {},
   "outputs": [],
   "source": [
    "MEOH = chem(\"CH4O\")"
   ]
  },
  {
   "cell_type": "code",
   "execution_count": 40,
   "id": "eb60d41b",
   "metadata": {},
   "outputs": [],
   "source": [
    "MEOH = chem(\"67-56-1\")"
   ]
  },
  {
   "cell_type": "markdown",
   "id": "70db0516",
   "metadata": {},
   "source": [
    "Utilizing the tabulate library enables the listing of certain properties in a tabular format."
   ]
  },
  {
   "cell_type": "code",
   "execution_count": 109,
   "id": "0122c0a1",
   "metadata": {},
   "outputs": [
    {
     "name": "stdout",
     "output_type": "stream",
     "text": [
      "╒═════════════════════════╤═══════════════════════╕\n",
      "│ Name                    │ ethanol               │\n",
      "├─────────────────────────┼───────────────────────┤\n",
      "│ Formula                 │ C2H6O                 │\n",
      "├─────────────────────────┼───────────────────────┤\n",
      "│ Boiling Point (oC)      │ 78.57044165899998     │\n",
      "├─────────────────────────┼───────────────────────┤\n",
      "│ Critical Temp. (oC)     │ 241.71000000000004    │\n",
      "├─────────────────────────┼───────────────────────┤\n",
      "│ Vapor Pressure (kPa)    │ 7.885386299164875     │\n",
      "├─────────────────────────┼───────────────────────┤\n",
      "│ Critical Pressure (kPa) │ 6268.0                │\n",
      "├─────────────────────────┼───────────────────────┤\n",
      "│ Density (kg/m^3)        │ 785.1624420889035     │\n",
      "├─────────────────────────┼───────────────────────┤\n",
      "│ Viscosity (Pa s)        │ 0.0010829172340303002 │\n",
      "├─────────────────────────┼───────────────────────┤\n",
      "│ Internal Energy (J/kg)  │ -129.04972852551066   │\n",
      "├─────────────────────────┼───────────────────────┤\n",
      "│ Heat Capasity (J/kg oK) │ 2434.4813098812488    │\n",
      "├─────────────────────────┼───────────────────────┤\n",
      "│ Thermal Cond. (W/m oK)  │ 0.16026536354354157   │\n",
      "╘═════════════════════════╧═══════════════════════╛\n"
     ]
    }
   ],
   "source": [
    "from tabulate import tabulate as tab\n",
    "ETOH = chem(\"Ethanol\")\n",
    "Properties = [\"Name\",\"Formula\",\"Boiling Point (oC)\",\"Critical Temp. (oC)\",\"Vapor Pressure (kPa)\",\"Critical Pressure (kPa)\",\n",
    "             \"Density (kg/m^3)\",\"Viscosity (Pa s)\",\"Internal Energy (J/kg)\",\"Heat Capasity (J/kg oK)\",\"Thermal Cond. (W/m oK)\"]\n",
    "Data = [ETOH.name,ETOH.formula,ETOH.Tb-273,ETOH.Tc-273,ETOH.VaporPressure(298.15)/1000,ETOH.Pc/1000,\n",
    "        ETOH.rho,ETOH.ViscosityLiquid(T=298.15,P=1e05),ETOH.U,ETOH.Cp,ETOH.k]\n",
    "Table = []\n",
    "for i,j in zip(Properties,Data): Table.append((i,j))\n",
    "print(tab(Table,tablefmt=\"fancy_grid\"))"
   ]
  },
  {
   "cell_type": "markdown",
   "id": "c712e651",
   "metadata": {},
   "source": [
    "For mixtures, the Mixture class is imported, supporting various mixing rules without error handling. Inputs in the form of mole fractions (zs), mass fractions (ws), or volume fractions (Vfls or Vfgs) are accommodated"
   ]
  },
  {
   "cell_type": "code",
   "execution_count": 2,
   "id": "6f06f2bd",
   "metadata": {},
   "outputs": [],
   "source": [
    "from thermo.chemical import Mixture as mix"
   ]
  },
  {
   "cell_type": "markdown",
   "id": "2b06078c",
   "metadata": {},
   "source": [
    "Example: A mixture consisting of water, methanol, and ethanol with mass fractions of 0.4, 0.3, and 0.3, respectively."
   ]
  },
  {
   "cell_type": "code",
   "execution_count": 3,
   "id": "49716050",
   "metadata": {},
   "outputs": [],
   "source": [
    "Mixture = mix(['water','methanol','ethanol'], ws=[0.4, 0.3,0.3], T=298.15, P=1e05)"
   ]
  },
  {
   "cell_type": "markdown",
   "id": "8132322c",
   "metadata": {},
   "source": [
    "The thermal conductivity of the mixture can be determined through two methods."
   ]
  },
  {
   "cell_type": "code",
   "execution_count": 52,
   "id": "63e129b1",
   "metadata": {},
   "outputs": [
    {
     "data": {
      "text/plain": [
       "(0.22476387654517954, 0.22476387654517954)"
      ]
     },
     "execution_count": 52,
     "metadata": {},
     "output_type": "execute_result"
    }
   ],
   "source": [
    "Mixture.ThermalConductivityLiquidMixture(T=298.15,P=1e05,ws=[0.4,0.3,0.3]),Mixture.k"
   ]
  },
  {
   "cell_type": "markdown",
   "id": "bbb16e7d",
   "metadata": {},
   "source": [
    "Creating certain mixture properties and visualizing them in a table."
   ]
  },
  {
   "cell_type": "code",
   "execution_count": 85,
   "id": "e38fdd58",
   "metadata": {},
   "outputs": [
    {
     "name": "stdout",
     "output_type": "stream",
     "text": [
      "╒═════════════════════════╤═════════════════╕\n",
      "│ Density (kg/m^3)        │   858.533       │\n",
      "├─────────────────────────┼─────────────────┤\n",
      "│ Viscosity (Pa s)        │     0.000815255 │\n",
      "├─────────────────────────┼─────────────────┤\n",
      "│ Enthalpy (kJ/kg)        │ -1603.46        │\n",
      "├─────────────────────────┼─────────────────┤\n",
      "│ Heat Capasity (J/kg oK) │  3163.24        │\n",
      "├─────────────────────────┼─────────────────┤\n",
      "│ Thermal Cond. (W/m oK)  │     0.224764    │\n",
      "╘═════════════════════════╧═════════════════╛\n"
     ]
    }
   ],
   "source": [
    "Proparties = [(\"Density (kg/m^3)\",Mixture.rho),(\"Viscosity (Pa s)\",\n",
    "              Mixture.ViscosityLiquidMixture(T=298.15,P=1e05,ws=[0.4,0.3,0.3])),\n",
    "              (\"Enthalpy (kJ/kg)\",Mixture.H/1000),(\"Heat Capasity (J/kg oK)\",Mixture.Cp),\n",
    "              (\"Thermal Cond. (W/m oK)\",Mixture.k)\n",
    "             ]\n",
    "print(tab(Proparties,tablefmt=\"fancy_grid\"))"
   ]
  },
  {
   "cell_type": "markdown",
   "id": "7ea06878",
   "metadata": {},
   "source": [
    "Parametric study of the mixture phase by varying the temperature at constant pressure."
   ]
  },
  {
   "cell_type": "code",
   "execution_count": 88,
   "id": "be3a7714",
   "metadata": {},
   "outputs": [
    {
     "name": "stdout",
     "output_type": "stream",
     "text": [
      "╒══════════════════╤═════════════════════════╕\n",
      "│ Temperature (oC) │ Phase (l:liquid, g:gas) │\n",
      "├──────────────────┼─────────────────────────┤\n",
      "│ 80               │ l                       │\n",
      "├──────────────────┼─────────────────────────┤\n",
      "│ 81               │ l                       │\n",
      "├──────────────────┼─────────────────────────┤\n",
      "│ 82               │ l                       │\n",
      "├──────────────────┼─────────────────────────┤\n",
      "│ 83               │ l/g                     │\n",
      "├──────────────────┼─────────────────────────┤\n",
      "│ 84               │ l/g                     │\n",
      "├──────────────────┼─────────────────────────┤\n",
      "│ 85               │ l/g                     │\n",
      "├──────────────────┼─────────────────────────┤\n",
      "│ 86               │ l/g                     │\n",
      "├──────────────────┼─────────────────────────┤\n",
      "│ 87               │ l/g                     │\n",
      "├──────────────────┼─────────────────────────┤\n",
      "│ 88               │ l/g                     │\n",
      "├──────────────────┼─────────────────────────┤\n",
      "│ 89               │ l/g                     │\n",
      "├──────────────────┼─────────────────────────┤\n",
      "│ 90               │ l/g                     │\n",
      "├──────────────────┼─────────────────────────┤\n",
      "│ 91               │ l/g                     │\n",
      "├──────────────────┼─────────────────────────┤\n",
      "│ 92               │ g                       │\n",
      "├──────────────────┼─────────────────────────┤\n",
      "│ 93               │ g                       │\n",
      "├──────────────────┼─────────────────────────┤\n",
      "│ 94               │ g                       │\n",
      "├──────────────────┼─────────────────────────┤\n",
      "│ 95               │ g                       │\n",
      "├──────────────────┼─────────────────────────┤\n",
      "│ 96               │ g                       │\n",
      "├──────────────────┼─────────────────────────┤\n",
      "│ 97               │ g                       │\n",
      "├──────────────────┼─────────────────────────┤\n",
      "│ 98               │ g                       │\n",
      "├──────────────────┼─────────────────────────┤\n",
      "│ 99               │ g                       │\n",
      "├──────────────────┼─────────────────────────┤\n",
      "│ 100              │ g                       │\n",
      "╘══════════════════╧═════════════════════════╛\n"
     ]
    }
   ],
   "source": [
    "phase = [(\"Temperature (oC)\",\"Phase (l:liquid, g:gas)\")]\n",
    "for i in range(353,374):\n",
    "    phase.append((i-273,mix(['water','methanol','ethanol'], ws=[0.4, 0.3,0.3], T=i, P=1e05).phase))\n",
    "print(tab(phase,tablefmt=\"fancy_grid\"))"
   ]
  },
  {
   "cell_type": "code",
   "execution_count": null,
   "id": "f9d4cd0a",
   "metadata": {},
   "outputs": [],
   "source": []
  },
  {
   "cell_type": "code",
   "execution_count": null,
   "id": "b24e4c4c",
   "metadata": {},
   "outputs": [],
   "source": []
  },
  {
   "cell_type": "code",
   "execution_count": null,
   "id": "11cc03e7",
   "metadata": {},
   "outputs": [],
   "source": []
  }
 ],
 "metadata": {
  "kernelspec": {
   "display_name": "Python 3 (ipykernel)",
   "language": "python",
   "name": "python3"
  },
  "language_info": {
   "codemirror_mode": {
    "name": "ipython",
    "version": 3
   },
   "file_extension": ".py",
   "mimetype": "text/x-python",
   "name": "python",
   "nbconvert_exporter": "python",
   "pygments_lexer": "ipython3",
   "version": "3.9.13"
  }
 },
 "nbformat": 4,
 "nbformat_minor": 5
}
